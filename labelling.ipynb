{
 "cells": [
  {
   "cell_type": "code",
   "execution_count": 1,
   "metadata": {},
   "outputs": [],
   "source": [
    "import argparse\n",
    "import os\n",
    "import torch\n",
    "import numpy as np\n",
    "\n",
    "from utils.config import create_config\n",
    "from utils.common_config import get_criterion, get_model, get_train_dataset,\\\n",
    "                                get_val_dataset, get_train_dataloader,\\\n",
    "                                get_val_dataloader, get_train_transformations,\\\n",
    "                                get_val_transformations, get_optimizer,\\\n",
    "                                adjust_learning_rate\n",
    "from utils.evaluate_utils import contrastive_evaluate\n",
    "from utils.memory import MemoryBank\n",
    "from utils.train_utils import pretraining\n",
    "from utils.utils import fill_memory_bank\n",
    "from termcolor import colored\n",
    "from matplotlib.axes._axes import _log as matplotlib_axes_logger\n",
    "matplotlib_axes_logger.setLevel('ERROR')\n",
    "from sklearn.cluster import KMeans\n",
    "import sklearn"
   ]
  },
  {
   "cell_type": "code",
   "execution_count": 2,
   "metadata": {},
   "outputs": [],
   "source": [
    "attrs_default = [\"5_o_Clock_Shadow\", \"Arched_Eyebrows\", \"Attractive\", \"Bags_Under_Eyes\", \"Bald\", \"Bangs\", \"Big_Lips\", \"Big_Nose\", \"Black_Hair\", \"Blond_Hair\", \"Blurry\", \"Brown_Hair\", \"Bushy_Eyebrows\", \"Chubby\", \"Double_Chin\", \"Eyeglasses\", \"Goatee\", \"Gray_Hair\", \"Heavy_Makeup\", \"High_Cheekbones\", \"Male\", \"Mouth_Slightly_Open\", \"Mustache\", \"Narrow_Eyes\", \"No_Beard\", \"Oval_Face\", \"Pale_Skin\", \"Pointy_Nose\", \"Receding_Hairline\", \"Rosy_Cheeks\", \"Sideburns\", \"Smiling\", \"Straight_Hair\", \"Wavy_Hair\", \"Wearing_Earrings\", \"Wearing_Hat\", \"Wearing_Lipstick\", \"Wearing_Necklace\", \"Wearing_Necktie\", \"Young\"]"
   ]
  },
  {
   "cell_type": "code",
   "execution_count": 3,
   "metadata": {},
   "outputs": [],
   "source": [
    "p = create_config(\"configs/env.yml\", \"configs/pretext/pretraining.yml\", 128, 1)\n",
    "p['batch_size'] = 128\n",
    "p['epochs'] = 1"
   ]
  },
  {
   "cell_type": "code",
   "execution_count": 4,
   "metadata": {},
   "outputs": [],
   "source": [
    "import torchvision\n",
    "import torchvision.transforms as transforms\n",
    "dataset = torchvision.datasets.ImageFolder(root='/home/mehmetyavuz/datasets/YFCC392K/', transform=transforms.Compose([\n",
    "                #transforms.Resize(p['img_size']),\n",
    "                transforms.CenterCrop(p['augmentation_kwargs']['crop_size']),\n",
    "                transforms.ToTensor(),\n",
    "                transforms.Normalize(**p['augmentation_kwargs']['normalize'])\n",
    "            ]))"
   ]
  },
  {
   "cell_type": "code",
   "execution_count": 5,
   "metadata": {},
   "outputs": [
    {
     "name": "stdout",
     "output_type": "stream",
     "text": [
      "\u001b[34mSet CuDNN benchmark\u001b[0m\n"
     ]
    }
   ],
   "source": [
    "# CUDNN\n",
    "print(colored('Set CuDNN benchmark', 'blue')) \n",
    "torch.backends.cudnn.benchmark = True"
   ]
  },
  {
   "cell_type": "code",
   "execution_count": 6,
   "metadata": {},
   "outputs": [
    {
     "name": "stdout",
     "output_type": "stream",
     "text": [
      "Val transforms: {'standard': Compose(\n",
      "    CenterCrop(size=(128, 128))\n",
      "    ToTensor()\n",
      "    Normalize(mean=[0.5, 0.5, 0.5], std=[0.5, 0.5, 0.5])\n",
      ")}\n",
      "\u001b[34mBuild MemoryBank\u001b[0m\n"
     ]
    }
   ],
   "source": [
    "val_transforms = get_val_transformations(p)\n",
    "print('Val transforms:', val_transforms)\n",
    "print(colored('Build MemoryBank', 'blue'))\n",
    "base_dataset = get_train_dataset(p, val_transforms, to_augmented_dataset=True)\n",
    "base_dataloader = get_val_dataloader(p, base_dataset)\n",
    "memory_bank_base = MemoryBank(len(base_dataset), \n",
    "                            p['model_kwargs']['features_dim'],\n",
    "                            p['model_kwargs']['num_heads'], p['num_classes'], p['criterion_kwargs']['temperature'])"
   ]
  },
  {
   "cell_type": "code",
   "execution_count": 7,
   "metadata": {},
   "outputs": [],
   "source": [
    "def get_cmap(n, name='hsv'):\n",
    "    return plt.cm.get_cmap(name, n)"
   ]
  },
  {
   "cell_type": "code",
   "execution_count": 8,
   "metadata": {},
   "outputs": [],
   "source": [
    "import glob\n",
    "files = 'results001/CelebA/SimCLR-B128/finetuning_model.pth.tar'"
   ]
  },
  {
   "cell_type": "code",
   "execution_count": 9,
   "metadata": {},
   "outputs": [],
   "source": [
    "import numpy as np\n",
    "import matplotlib.pyplot as plt\n",
    "\n",
    "from matplotlib.ticker import NullFormatter\n",
    "from sklearn import manifold, datasets\n",
    "from time import time\n",
    "\n",
    "n_samples = len(base_dataset)\n",
    "n_components = 2\n",
    "perplexity = 15\n",
    "\n",
    "cmap = get_cmap(10)"
   ]
  },
  {
   "cell_type": "code",
   "execution_count": 10,
   "metadata": {},
   "outputs": [
    {
     "name": "stdout",
     "output_type": "stream",
     "text": [
      "\u001b[34mRetrieve model\u001b[0m\n",
      "Model is DataParallel\n",
      "Model parameters: 78.64M\n",
      "Fill memory bank for kNN...\n"
     ]
    },
    {
     "name": "stderr",
     "output_type": "stream",
     "text": [
      "/opt/anaconda3/lib/python3.7/site-packages/torch/nn/functional.py:718: UserWarning: Named tensors and all their associated APIs are an experimental feature and subject to change. Please do not use them for anything important until they are released as stable. (Triggered internally at  /pytorch/c10/core/TensorImpl.h:1156.)\n",
      "  return torch.max_pool2d(input, kernel_size, stride, padding, dilation, ceil_mode)\n"
     ]
    },
    {
     "name": "stdout",
     "output_type": "stream",
     "text": [
      "Fill Memory Bank [0/13]\n"
     ]
    }
   ],
   "source": [
    "# Model\n",
    "print(colored('Retrieve model', 'blue'))\n",
    "model = get_model(p)\n",
    "model = torch.nn.DataParallel(model)\n",
    "model.load_state_dict(torch.load(files, map_location='cpu')['model'], strict=True)\n",
    "print('Model is {}'.format(model.__class__.__name__))\n",
    "print('Model parameters: {:.2f}M'.format(sum(p.numel() for p in model.parameters()) / 1e6))\n",
    "model = model.cuda()\n",
    "# Fill memory bank\n",
    "print('Fill memory bank for kNN...')\n",
    "fill_memory_bank(base_dataloader, model, memory_bank_base)"
   ]
  },
  {
   "cell_type": "code",
   "execution_count": 11,
   "metadata": {},
   "outputs": [],
   "source": [
    "X = np.squeeze(memory_bank_base.features.cpu().numpy())\n",
    "y = np.squeeze(memory_bank_base.targets.cpu().numpy())"
   ]
  },
  {
   "cell_type": "code",
   "execution_count": 12,
   "metadata": {},
   "outputs": [
    {
     "name": "stdout",
     "output_type": "stream",
     "text": [
      "\u001b[34mBuild MemoryBank\u001b[0m\n"
     ]
    }
   ],
   "source": [
    "val_transforms = get_val_transformations(p, dictionary=False)\n",
    "print(colored('Build MemoryBank', 'blue'))\n",
    "YFCC_dataset = get_train_dataset(p, val_transforms, to_augmented_dataset=False, YFCC=True)\n",
    "YFCC_dataloader = get_val_dataloader(p, YFCC_dataset)\n",
    "memory_bank_YFCC = MemoryBank(len(YFCC_dataset), \n",
    "                            p['model_kwargs']['features_dim'],\n",
    "                            p['model_kwargs']['num_heads'], p['num_classes'], p['criterion_kwargs']['temperature'])"
   ]
  },
  {
   "cell_type": "code",
   "execution_count": 13,
   "metadata": {},
   "outputs": [
    {
     "name": "stdout",
     "output_type": "stream",
     "text": [
      "Fill memory bank for kNN...\n",
      "Fill Memory Bank [0/3065]\n",
      "Fill Memory Bank [100/3065]\n",
      "Fill Memory Bank [200/3065]\n",
      "Fill Memory Bank [300/3065]\n",
      "Fill Memory Bank [400/3065]\n",
      "Fill Memory Bank [500/3065]\n",
      "Fill Memory Bank [600/3065]\n",
      "Fill Memory Bank [700/3065]\n",
      "Fill Memory Bank [800/3065]\n",
      "Fill Memory Bank [900/3065]\n",
      "Fill Memory Bank [1000/3065]\n",
      "Fill Memory Bank [1100/3065]\n",
      "Fill Memory Bank [1200/3065]\n",
      "Fill Memory Bank [1300/3065]\n",
      "Fill Memory Bank [1400/3065]\n",
      "Fill Memory Bank [1500/3065]\n",
      "Fill Memory Bank [1600/3065]\n",
      "Fill Memory Bank [1700/3065]\n",
      "Fill Memory Bank [1800/3065]\n",
      "Fill Memory Bank [1900/3065]\n",
      "Fill Memory Bank [2000/3065]\n",
      "Fill Memory Bank [2100/3065]\n",
      "Fill Memory Bank [2200/3065]\n",
      "Fill Memory Bank [2300/3065]\n",
      "Fill Memory Bank [2400/3065]\n",
      "Fill Memory Bank [2500/3065]\n",
      "Fill Memory Bank [2600/3065]\n",
      "Fill Memory Bank [2700/3065]\n",
      "Fill Memory Bank [2800/3065]\n",
      "Fill Memory Bank [2900/3065]\n",
      "Fill Memory Bank [3000/3065]\n"
     ]
    }
   ],
   "source": [
    "print('Fill memory bank for kNN...')\n",
    "fill_memory_bank(YFCC_dataloader, model, memory_bank_YFCC, isYFCC=True)"
   ]
  },
  {
   "cell_type": "code",
   "execution_count": 14,
   "metadata": {},
   "outputs": [],
   "source": [
    "X_YFCC = np.squeeze(memory_bank_YFCC.features.cpu().numpy())"
   ]
  },
  {
   "cell_type": "code",
   "execution_count": 15,
   "metadata": {},
   "outputs": [],
   "source": [
    "with open('X_YFCC.npy', 'wb') as f:\n",
    "    np.save(f, X_YFCC)"
   ]
  },
  {
   "cell_type": "code",
   "execution_count": 16,
   "metadata": {},
   "outputs": [],
   "source": [
    "with open('y.npy', 'wb') as f:\n",
    "    np.save(f, y)"
   ]
  },
  {
   "cell_type": "code",
   "execution_count": 17,
   "metadata": {},
   "outputs": [],
   "source": [
    "with open('X.npy', 'wb') as f:\n",
    "    np.save(f, X)"
   ]
  },
  {
   "cell_type": "raw",
   "metadata": {},
   "source": [
    "X = np.load('embeddings_100_0/X.npy')"
   ]
  },
  {
   "cell_type": "raw",
   "metadata": {},
   "source": [
    "X_YFCC = np.load('embeddings_100_0/X_YFCC.npy')"
   ]
  },
  {
   "cell_type": "raw",
   "metadata": {},
   "source": [
    "y = np.load('embeddings_100_0/y.npy')"
   ]
  },
  {
   "cell_type": "raw",
   "metadata": {},
   "source": [
    "!export LD_LIBRARY_PATH=/opt/anaconda3/lib/python3.7/site-packages"
   ]
  },
  {
   "cell_type": "raw",
   "metadata": {},
   "source": [
    "from MulticoreTSNE import MulticoreTSNE as TSNE\n",
    "import seaborn as sns\n",
    "import pandas as pd  "
   ]
  },
  {
   "cell_type": "raw",
   "metadata": {},
   "source": [
    "%load_ext wurlitzer"
   ]
  },
  {
   "cell_type": "raw",
   "metadata": {},
   "source": [
    "tsne = TSNE(n_components=2,n_jobs=8)\n",
    "Xr = tsne.fit_transform(X[:,0,:])"
   ]
  },
  {
   "cell_type": "raw",
   "metadata": {},
   "source": [
    "tsne = TSNE(n_components=2,n_jobs=8)\n",
    "X_YFCCr = tsne.fit_transform(X_YFCC[:,0,:])"
   ]
  },
  {
   "cell_type": "raw",
   "metadata": {},
   "source": [
    "df = pd.DataFrame()\n",
    "df[\"y\"] = y[:,0,:]\n",
    "df[\"comp-1\"] = Xr[:,0]\n",
    "df[\"comp-2\"] = Xr[:,1]\n",
    "\n",
    "sns.scatterplot(x=\"comp-1\", y=\"comp-2\", hue=df.y.tolist(),\n",
    "                palette=sns.color_palette(\"hls\", 3),\n",
    "                data=df).set(title=\"Iris data T-SNE projection\") "
   ]
  },
  {
   "cell_type": "code",
   "execution_count": null,
   "metadata": {},
   "outputs": [],
   "source": []
  },
  {
   "cell_type": "code",
   "execution_count": null,
   "metadata": {},
   "outputs": [],
   "source": []
  },
  {
   "cell_type": "code",
   "execution_count": null,
   "metadata": {},
   "outputs": [],
   "source": []
  },
  {
   "cell_type": "code",
   "execution_count": null,
   "metadata": {},
   "outputs": [],
   "source": []
  },
  {
   "cell_type": "raw",
   "metadata": {},
   "source": [
    "import faiss"
   ]
  },
  {
   "cell_type": "raw",
   "metadata": {},
   "source": [
    "c = 0\n",
    "xp = np.ascontiguousarray(X[:,c,:])\n",
    "res = faiss.StandardGpuResources()  # use a single GPU\n",
    "index_flat = faiss.IndexFlatL2(128)  # build a flat (CPU) index\n",
    "gpu_index_flat = faiss.index_cpu_to_gpu(res, 0, index_flat)\n",
    "gpu_index_flat.train(xp)\n",
    "gpu_index_flat.add(xp)\n",
    "print(gpu_index_flat.ntotal)\n",
    "xq = np.ascontiguousarray(X_YFCC[:100,c,:], dtype=np.float32)\n",
    "d, neighbors = gpu_index_flat.search(xq, 1) "
   ]
  },
  {
   "cell_type": "code",
   "execution_count": null,
   "metadata": {},
   "outputs": [],
   "source": []
  },
  {
   "cell_type": "code",
   "execution_count": null,
   "metadata": {},
   "outputs": [],
   "source": []
  }
 ],
 "metadata": {
  "kernelspec": {
   "display_name": "Python 3",
   "language": "python",
   "name": "python3"
  },
  "language_info": {
   "codemirror_mode": {
    "name": "ipython",
    "version": 3
   },
   "file_extension": ".py",
   "mimetype": "text/x-python",
   "name": "python",
   "nbconvert_exporter": "python",
   "pygments_lexer": "ipython3",
   "version": "3.7.6"
  }
 },
 "nbformat": 4,
 "nbformat_minor": 5
}
