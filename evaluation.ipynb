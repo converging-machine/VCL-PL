{
 "cells": [
  {
   "cell_type": "code",
   "execution_count": 1,
   "metadata": {
    "id": "Rc5E-MOY12I5"
   },
   "outputs": [],
   "source": [
    "from torch import nn\n",
    "from torch.autograd import Variable\n",
    "import torch\n",
    "import torch.nn.functional as F\n",
    "import torchvision\n",
    "import torch.utils.data as data\n",
    "import torchvision.transforms as transforms\n",
    "import torchvision.utils as vutils\n",
    "import numpy as np\n",
    "from PIL import Image\n",
    "import os\n",
    "import matplotlib.pyplot as plt\n",
    "import time\n",
    "from torchsummary import summary\n",
    "import config\n",
    "from facenet_pytorch import training\n",
    "from torch.utils.data import DataLoader, SubsetRandomSampler\n",
    "from torch import optim\n",
    "from torch.optim.lr_scheduler import MultiStepLR\n",
    "from torch.utils.tensorboard import SummaryWriter\n",
    "from torchvision import datasets, transforms\n",
    "from PIL import Image\n",
    "import glob\n",
    "import torchvision.models as models\n",
    "from util import AverageMeter, learning_rate_decay, Logger\n",
    "import math"
   ]
  },
  {
   "cell_type": "code",
   "execution_count": 2,
   "metadata": {},
   "outputs": [
    {
     "name": "stdout",
     "output_type": "stream",
     "text": [
      "----------------------------------------------------------------\n",
      "        Layer (type)               Output Shape         Param #\n",
      "================================================================\n",
      "            Conv2d-1           [-1, 64, 31, 31]          23,296\n",
      "              ReLU-2           [-1, 64, 31, 31]               0\n",
      "         MaxPool2d-3           [-1, 64, 15, 15]               0\n",
      "            Conv2d-4          [-1, 192, 15, 15]         307,392\n",
      "              ReLU-5          [-1, 192, 15, 15]               0\n",
      "         MaxPool2d-6            [-1, 192, 7, 7]               0\n",
      "            Conv2d-7            [-1, 384, 7, 7]         663,936\n",
      "              ReLU-8            [-1, 384, 7, 7]               0\n",
      "            Conv2d-9            [-1, 256, 7, 7]         884,992\n",
      "             ReLU-10            [-1, 256, 7, 7]               0\n",
      "           Conv2d-11            [-1, 256, 7, 7]         590,080\n",
      "             ReLU-12            [-1, 256, 7, 7]               0\n",
      "        MaxPool2d-13            [-1, 256, 3, 3]               0\n",
      "AdaptiveAvgPool2d-14            [-1, 256, 6, 6]               0\n",
      "          Dropout-15                 [-1, 9216]               0\n",
      "           Linear-16                 [-1, 4096]      37,752,832\n",
      "             ReLU-17                 [-1, 4096]               0\n",
      "          Dropout-18                 [-1, 4096]               0\n",
      "           Linear-19                 [-1, 4096]      16,781,312\n",
      "             ReLU-20                 [-1, 4096]               0\n",
      "           Linear-21                   [-1, 40]         163,880\n",
      "================================================================\n",
      "Total params: 57,167,720\n",
      "Trainable params: 57,167,720\n",
      "Non-trainable params: 0\n",
      "----------------------------------------------------------------\n",
      "Input size (MB): 0.19\n",
      "Forward/backward pass size (MB): 2.76\n",
      "Params size (MB): 218.08\n",
      "Estimated Total Size (MB): 221.03\n",
      "----------------------------------------------------------------\n"
     ]
    },
    {
     "name": "stderr",
     "output_type": "stream",
     "text": [
      "/opt/anaconda3/lib/python3.7/site-packages/torch/nn/functional.py:718: UserWarning: Named tensors and all their associated APIs are an experimental feature and subject to change. Please do not use them for anything important until they are released as stable. (Triggered internally at  /pytorch/c10/core/TensorImpl.h:1156.)\n",
      "  return torch.max_pool2d(input, kernel_size, stride, padding, dilation, ceil_mode)\n"
     ]
    }
   ],
   "source": [
    "from models.alexnet import alexnet\n",
    "alexnet = alexnet()['backbone']\n",
    "alexnet.classifier[6] = nn.Linear(in_features=4096, out_features=40, bias=True)\n",
    "alexnet = alexnet.cuda()\n",
    "summary(alexnet,(3,128,128))"
   ]
  },
  {
   "cell_type": "code",
   "execution_count": 3,
   "metadata": {},
   "outputs": [],
   "source": [
    "# Root directory for dataset\n",
    "data_root = \"/home/mehmetyavuz/datasets/CelebA128/\"\n",
    "attr_root = \"/home/mehmetyavuz/datasets/list_attr_celeba.txt\"\n",
    "# Number of workers for dataloader\n",
    "workers = 4\n",
    "\n",
    "# Batch size during training\n",
    "batch_size = 64\n",
    "\n",
    "# Spatial size of training images. All images will be resized to this\n",
    "#   size using a transformer.\n",
    "image_size = (128,128)\n",
    "epochs = 100"
   ]
  },
  {
   "cell_type": "code",
   "execution_count": 4,
   "metadata": {},
   "outputs": [],
   "source": [
    "class CelebA(data.Dataset):\n",
    "    def __init__(self, data_path, attr_path, image_size, mode, selected_attrs):\n",
    "        super(CelebA, self).__init__()\n",
    "        self.data_path = data_path\n",
    "        att_list = open(attr_path, 'r', encoding='utf-8').readlines()[1].split()\n",
    "        atts = [att_list.index(att) + 1 for att in selected_attrs]\n",
    "        images = np.loadtxt(attr_path, skiprows=2, usecols=[0], dtype=np.str)\n",
    "        labels = np.loadtxt(attr_path, skiprows=2, usecols=atts, dtype=np.int)\n",
    "        \n",
    "        self.tf = transforms.Compose([\n",
    "                transforms.ToTensor(),\n",
    "                transforms.Normalize((0.5, 0.5, 0.5), (0.5, 0.5, 0.5)),\n",
    "            ])\n",
    "        if mode == 'train':\n",
    "            self.images = images[:162770]\n",
    "            self.labels = labels[:162770]\n",
    "\n",
    "        if mode == 'valid':\n",
    "            self.images = images[162770:182637]\n",
    "            self.labels = labels[162770:182637]\n",
    "\n",
    "        if mode == 'test':\n",
    "            self.images = images[182637:]\n",
    "            self.labels = labels[182637:]\n",
    "                                       \n",
    "        self.length = len(self.images)\n",
    "    def __getitem__(self, index):\n",
    "        img = self.tf(Image.open(os.path.join(self.data_path, self.images[index])))\n",
    "        att = torch.tensor((self.labels[index] + 1) // 2)\n",
    "        return img, att.to(torch.float32)\n",
    "    def __len__(self):\n",
    "        return self.length"
   ]
  },
  {
   "cell_type": "code",
   "execution_count": 5,
   "metadata": {},
   "outputs": [],
   "source": [
    "attrs_default = [\"5_o_Clock_Shadow\", \"Arched_Eyebrows\", \"Attractive\", \"Bags_Under_Eyes\", \"Bald\", \"Bangs\", \"Big_Lips\", \"Big_Nose\", \n",
    "                 \"Black_Hair\", \"Blond_Hair\", \"Blurry\", \"Brown_Hair\", \"Bushy_Eyebrows\", \"Chubby\", \"Double_Chin\", \"Eyeglasses\", \"Goatee\", \n",
    "                 \"Gray_Hair\", \"Heavy_Makeup\", \"High_Cheekbones\", \"Male\", \"Mouth_Slightly_Open\", \"Mustache\", \"Narrow_Eyes\", \"No_Beard\", \n",
    "                 \"Oval_Face\", \"Pale_Skin\", \"Pointy_Nose\", \"Receding_Hairline\", \"Rosy_Cheeks\", \"Sideburns\", \"Smiling\", \"Straight_Hair\", \n",
    "                 \"Wavy_Hair\", \"Wearing_Earrings\", \"Wearing_Hat\", \"Wearing_Lipstick\", \"Wearing_Necklace\", \"Wearing_Necktie\", \"Young\"]"
   ]
  },
  {
   "cell_type": "code",
   "execution_count": 6,
   "metadata": {},
   "outputs": [],
   "source": [
    "dataset = CelebA(data_root, attr_root, image_size, 'test', attrs_default)\n",
    "test_loader = torch.utils.data.DataLoader(dataset,\n",
    "                                          batch_size=batch_size,\n",
    "                                          shuffle=False,\n",
    "                                          num_workers=workers)"
   ]
  },
  {
   "cell_type": "code",
   "execution_count": 7,
   "metadata": {},
   "outputs": [],
   "source": [
    "# Decide which device we want to run on\n",
    "device = torch.device(\"cuda:0\")"
   ]
  },
  {
   "cell_type": "code",
   "execution_count": 8,
   "metadata": {},
   "outputs": [],
   "source": [
    "alexnet = torch.nn.DataParallel(alexnet)"
   ]
  },
  {
   "cell_type": "code",
   "execution_count": 16,
   "metadata": {},
   "outputs": [],
   "source": [
    "weights = torch.load(\"alexnet_wYFCC_CelebA.pth\")"
   ]
  },
  {
   "cell_type": "code",
   "execution_count": 17,
   "metadata": {},
   "outputs": [
    {
     "data": {
      "text/plain": [
       "<All keys matched successfully>"
      ]
     },
     "execution_count": 17,
     "metadata": {},
     "output_type": "execute_result"
    }
   ],
   "source": [
    "alexnet.load_state_dict(weights,strict=True)"
   ]
  },
  {
   "cell_type": "code",
   "execution_count": 18,
   "metadata": {},
   "outputs": [],
   "source": [
    "features = torch.FloatTensor(len(dataset), 40)\n",
    "targets = torch.LongTensor(len(dataset),40)"
   ]
  },
  {
   "cell_type": "code",
   "execution_count": 19,
   "metadata": {},
   "outputs": [],
   "source": [
    "ptr = 0\n",
    "for i, batch in enumerate(test_loader):\n",
    "    images = batch[0].cuda(non_blocking=True)\n",
    "    target = batch[1].cuda(non_blocking=True)\n",
    "    output = alexnet(images)\n",
    "    output = nn.Sigmoid()(output)\n",
    "    \n",
    "    b = output.size(0)\n",
    "    \n",
    "    features[ptr:ptr+b].copy_(output.detach())\n",
    "    targets[ptr:ptr+b].copy_(target.detach())\n",
    "    ptr += b"
   ]
  },
  {
   "cell_type": "code",
   "execution_count": 20,
   "metadata": {},
   "outputs": [],
   "source": [
    "from sklearn.metrics import accuracy_score, roc_auc_score"
   ]
  },
  {
   "cell_type": "code",
   "execution_count": 21,
   "metadata": {},
   "outputs": [
    {
     "name": "stdout",
     "output_type": "stream",
     "text": [
      "5_o_Clock_Shadow ; 0.9333733916282654\n",
      "Arched_Eyebrows ; 0.8213104605674744\n",
      "Attractive ; 0.8119426965713501\n",
      "Bags_Under_Eyes ; 0.8345355987548828\n",
      "Bald ; 0.9869251847267151\n",
      "Bangs ; 0.952660083770752\n",
      "Big_Lips ; 0.7006812691688538\n",
      "Big_Nose ; 0.8349363803863525\n",
      "Black_Hair ; 0.882376492023468\n",
      "Blond_Hair ; 0.95421302318573\n",
      "Blurry ; 0.9563170075416565\n",
      "Brown_Hair ; 0.868800699710846\n",
      "Bushy_Eyebrows ; 0.9201482534408569\n",
      "Chubby ; 0.9526099562644958\n",
      "Double_Chin ; 0.9607253670692444\n",
      "Eyeglasses ; 0.9910830855369568\n",
      "Goatee ; 0.9691413640975952\n",
      "Gray_Hair ; 0.9801121950149536\n",
      "Heavy_Makeup ; 0.905520498752594\n",
      "High_Cheekbones ; 0.861687183380127\n",
      "Male ; 0.9754533767700195\n",
      "Mouth_Slightly_Open ; 0.9209998846054077\n",
      "Mustache ; 0.9664863348007202\n",
      "Narrow_Eyes ; 0.8651938438415527\n",
      "No_Beard ; 0.9473499655723572\n",
      "Oval_Face ; 0.7440637350082397\n",
      "Pale_Skin ; 0.9630798697471619\n",
      "Pointy_Nose ; 0.7600440979003906\n",
      "Receding_Hairline ; 0.9324216246604919\n",
      "Rosy_Cheeks ; 0.9460976123809814\n",
      "Sideburns ; 0.9729986786842346\n",
      "Smiling ; 0.9189459681510925\n",
      "Straight_Hair ; 0.8244664669036865\n",
      "Wavy_Hair ; 0.8335838317871094\n",
      "Wearing_Earrings ; 0.8832281231880188\n",
      "Wearing_Hat ; 0.9890291690826416\n",
      "Wearing_Lipstick ; 0.9383328557014465\n",
      "Wearing_Necklace ; 0.8652940392494202\n",
      "Wearing_Necktie ; 0.9646328091621399\n",
      "Young ; 0.8706041574478149\n",
      "Average Accuracy; 0.9040351510047913\n"
     ]
    }
   ],
   "source": [
    "for i, att in enumerate(attrs_default):\n",
    "    print(att, ';', (targets[:,i] == torch.round(features[:,i])).float().mean().item())\n",
    "print('Average Accuracy;', (targets == torch.round(features)).float().mean().item())"
   ]
  },
  {
   "cell_type": "code",
   "execution_count": 22,
   "metadata": {},
   "outputs": [
    {
     "name": "stdout",
     "output_type": "stream",
     "text": [
      "5_o_Clock_Shadow ; 0.9524515498856321\n",
      "Arched_Eyebrows ; 0.886710470948659\n",
      "Attractive ; 0.9022451902891208\n",
      "Bags_Under_Eyes ; 0.8653141648817456\n",
      "Bald ; 0.9878856580347216\n",
      "Bangs ; 0.9801308123331682\n",
      "Big_Lips ; 0.7147545281744155\n",
      "Big_Nose ; 0.8505320841299961\n",
      "Black_Hair ; 0.9483282358235869\n",
      "Blond_Hair ; 0.9771232714197933\n",
      "Blurry ; 0.8925097902360941\n",
      "Brown_Hair ; 0.9137597558613909\n",
      "Bushy_Eyebrows ; 0.9242122549668921\n",
      "Chubby ; 0.9332736912882683\n",
      "Double_Chin ; 0.939676525697232\n",
      "Eyeglasses ; 0.9921539905881706\n",
      "Goatee ; 0.9767191368145696\n",
      "Gray_Hair ; 0.9752906437510129\n",
      "Heavy_Makeup ; 0.9690874105275645\n",
      "High_Cheekbones ; 0.937046822413569\n",
      "Male ; 0.996351608268794\n",
      "Mouth_Slightly_Open ; 0.9737654137092846\n",
      "Mustache ; 0.9630940391557563\n",
      "Narrow_Eyes ; 0.816190873772795\n",
      "No_Beard ; 0.9773798861681661\n",
      "Oval_Face ; 0.7357570346677796\n",
      "Pale_Skin ; 0.9261406706809907\n",
      "Pointy_Nose ; 0.7736466739865241\n",
      "Receding_Hairline ; 0.9285025989795382\n",
      "Rosy_Cheeks ; 0.9464499663839703\n",
      "Sideburns ; 0.9761899642691328\n",
      "Smiling ; 0.9753639932413388\n",
      "Straight_Hair ; 0.8418787153089038\n",
      "Wavy_Hair ; 0.9036038975415472\n",
      "Wearing_Earrings ; 0.9191403789744385\n",
      "Wearing_Hat ; 0.9887281364096937\n",
      "Wearing_Lipstick ; 0.9849859134208526\n",
      "Wearing_Necklace ; 0.795785956786016\n",
      "Wearing_Necktie ; 0.9729118277625519\n",
      "Young ; 0.9078307598772979\n",
      "Average ROC-AUC; 0.9205726074357743\n"
     ]
    }
   ],
   "source": [
    "for i, att in enumerate(attrs_default):\n",
    "    print(att, ';', roc_auc_score(targets.cpu().numpy()[:,i], features.cpu().numpy()[:,i]))\n",
    "print('Average ROC-AUC;', roc_auc_score(targets.cpu().numpy(), features.cpu().numpy()))"
   ]
  },
  {
   "cell_type": "code",
   "execution_count": null,
   "metadata": {},
   "outputs": [],
   "source": []
  },
  {
   "cell_type": "code",
   "execution_count": null,
   "metadata": {},
   "outputs": [],
   "source": []
  }
 ],
 "metadata": {
  "colab": {
   "collapsed_sections": [],
   "name": "AE.ipynb",
   "provenance": []
  },
  "kernelspec": {
   "display_name": "Python 3",
   "language": "python",
   "name": "python3"
  },
  "language_info": {
   "codemirror_mode": {
    "name": "ipython",
    "version": 3
   },
   "file_extension": ".py",
   "mimetype": "text/x-python",
   "name": "python",
   "nbconvert_exporter": "python",
   "pygments_lexer": "ipython3",
   "version": "3.7.6"
  }
 },
 "nbformat": 4,
 "nbformat_minor": 4
}
